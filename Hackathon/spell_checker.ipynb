{
 "cells": [
  {
   "cell_type": "code",
   "execution_count": 1,
   "metadata": {},
   "outputs": [],
   "source": [
    "import re \n",
    "import tkinter as tk\n",
    "from tkinter.scrolledtext import ScrolledText\n",
    "import nltk \n",
    "from nltk.corpus import words"
   ]
  },
  {
   "cell_type": "code",
   "execution_count": null,
   "metadata": {},
   "outputs": [],
   "source": [
    "class SpellingChecker:\n",
    "    def __init__(self):\n",
    "        self.root = tk.Tk()\n",
    "        self.root.geometry(\"600x500\")\n",
    "        self.text = ScrolledText(self.root,font=(\"Arial\",14))\n",
    "        self.text.bind(\"<KeyRelease>\",self.check)\n",
    "        self.text.pack()\n",
    "        self.old_spaces = 0\n",
    "        self.root.mainloop()\n",
    "    \n",
    "    def check(self,event):\n",
    "        content = self.text.get(\"1.0\",tk.END)\n",
    "        \n",
    "        space_count =content.count(\" \")\n",
    "\n",
    "            \n",
    "        if space_count != self.old_spaces:\n",
    "            self.old_spaces = space_count\n",
    "            for tag in self.text.tag_names():\n",
    "                self.text.tag_delete(tag)\n",
    "            for word in content.split(\" \"):\n",
    "                if re.sub(r\"[^\\w]\",\"\",word.lower()) not in words.words():\n",
    "                    position = content.find(word)\n",
    "                    self.text.tag_add(word,f\"1.{position}\",f\"1.{position+len(word)}\")\n",
    "                    self.text.tag_config(word,foreground=\"red\")\n",
    "                     \n",
    "SpellingChecker() "
   ]
  },
  {
   "cell_type": "code",
   "execution_count": 16,
   "metadata": {},
   "outputs": [
    {
     "name": "stdout",
     "output_type": "stream",
     "text": [
      "yeh\n"
     ]
    }
   ],
   "source": [
    "input_str = input(\"word: \")\n",
    "if input_str not in words.words():\n",
    "    print(\"not\")\n",
    "else:\n",
    "    print(\"yeh\")"
   ]
  }
 ],
 "metadata": {
  "kernelspec": {
   "display_name": "Python 3 (ipykernel)",
   "language": "python",
   "name": "python3"
  },
  "language_info": {
   "codemirror_mode": {
    "name": "ipython",
    "version": 3
   },
   "file_extension": ".py",
   "mimetype": "text/x-python",
   "name": "python",
   "nbconvert_exporter": "python",
   "pygments_lexer": "ipython3",
   "version": "3.9.13"
  }
 },
 "nbformat": 4,
 "nbformat_minor": 2
}
